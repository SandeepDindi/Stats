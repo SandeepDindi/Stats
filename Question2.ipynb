{
 "cells": [
  {
   "cell_type": "code",
   "execution_count": 1,
   "id": "9cc1d604-37e1-4832-9b43-0691d193cf62",
   "metadata": {},
   "outputs": [
    {
     "name": "stdout",
     "output_type": "stream",
     "text": [
      "Expected Mean Value of sqrt(x): 1.9833239040756143\n",
      "Expected Mean Value of x^2: 16.993567208552005\n",
      "Expected Mean Value of 1/x: 0.26977189380882083\n"
     ]
    }
   ],
   "source": [
    "import numpy as np\n",
    "mean = 4 \n",
    "std_dev = 1  \n",
    "n_samples = 100000\n",
    "\n",
    "x = np.random.normal(mean, std_dev, n_samples)\n",
    "x = np.clip(x, 1, 7)\n",
    "\n",
    "meanOfRoots = np.mean(np.sqrt(x))\n",
    "\n",
    "meanOfSquares = np.mean(x**2)\n",
    "\n",
    "meanOfInverse = np.mean(1 / x)\n",
    "print(\"Expected Mean Value of sqrt(x):\", meanOfRoots)\n",
    "print(\"Expected Mean Value of x^2:\", meanOfSquares)\n",
    "print(\"Expected Mean Value of 1/x:\", meanOfInverse)\n"
   ]
  },
  {
   "cell_type": "code",
   "execution_count": null,
   "id": "a68553eb-3231-4036-a3a9-615336c223b8",
   "metadata": {},
   "outputs": [],
   "source": []
  }
 ],
 "metadata": {
  "kernelspec": {
   "display_name": "Python 3 (ipykernel)",
   "language": "python",
   "name": "python3"
  },
  "language_info": {
   "codemirror_mode": {
    "name": "ipython",
    "version": 3
   },
   "file_extension": ".py",
   "mimetype": "text/x-python",
   "name": "python",
   "nbconvert_exporter": "python",
   "pygments_lexer": "ipython3",
   "version": "3.12.4"
  }
 },
 "nbformat": 4,
 "nbformat_minor": 5
}
